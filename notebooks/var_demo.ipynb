{
 "cells": [
  {
   "cell_type": "code",
   "execution_count": 1,
   "metadata": {
    "tags": []
   },
   "outputs": [],
   "source": [
    "import sys\n",
    "import os\n",
    "sys.path.insert(0 ,'../granger-causality')"
   ]
  },
  {
   "cell_type": "code",
   "execution_count": 2,
   "metadata": {},
   "outputs": [],
   "source": [
    "from run import main"
   ]
  },
  {
   "cell_type": "code",
   "execution_count": 3,
   "metadata": {},
   "outputs": [],
   "source": [
    "class NameSpace(object):\n",
    "    def __init__(self, adict):\n",
    "        self.__dict__.update(adict)"
   ]
  },
  {
   "cell_type": "code",
   "execution_count": 4,
   "metadata": {},
   "outputs": [],
   "source": [
    "args = {\n",
    "    'r': 100,\n",
    "    'b': 128,\n",
    "    's': 5,\n",
    "    'lr': 0.1,\n",
    "    'lr_type': 'static',\n",
    "    'optimiser': 'sgd',\n",
    "    'dataset': 'var_p_10_T_100_lag_3_d_0_k_none',\n",
    "    'model': 'lekvar', \n",
    "}\n",
    "\n",
    "args = NameSpace(args)"
   ]
  },
  {
   "cell_type": "code",
   "execution_count": 5,
   "metadata": {},
   "outputs": [
    {
     "ename": "AttributeError",
     "evalue": "'NameSpace' object has no attribute 'loglevel'",
     "output_type": "error",
     "traceback": [
      "\u001B[0;31m---------------------------------------------------------------------------\u001B[0m",
      "\u001B[0;31mAttributeError\u001B[0m                            Traceback (most recent call last)",
      "Input \u001B[0;32mIn [5]\u001B[0m, in \u001B[0;36m<cell line: 1>\u001B[0;34m()\u001B[0m\n\u001B[0;32m----> 1\u001B[0m \u001B[43mmain\u001B[49m\u001B[43m(\u001B[49m\u001B[43margs\u001B[49m\u001B[43m)\u001B[49m\n",
      "File \u001B[0;32m~/Desktop/granger-causality-for-time-series-with-nn/notebooks/../granger-causality/run.py:26\u001B[0m, in \u001B[0;36mmain\u001B[0;34m(args)\u001B[0m\n\u001B[1;32m     22\u001B[0m \u001B[38;5;28;01mdef\u001B[39;00m \u001B[38;5;21mmain\u001B[39m(args):\n\u001B[1;32m     23\u001B[0m     \u001B[38;5;66;03m# system setup\u001B[39;00m\n\u001B[1;32m     24\u001B[0m     \u001B[38;5;28;01mglobal\u001B[39;00m CUDA_SUPPORT\n\u001B[0;32m---> 26\u001B[0m     Logger\u001B[38;5;241m.\u001B[39msetup_logging(\u001B[43margs\u001B[49m\u001B[38;5;241;43m.\u001B[39;49m\u001B[43mloglevel\u001B[49m, logfile\u001B[38;5;241m=\u001B[39margs\u001B[38;5;241m.\u001B[39mlogfile)\n\u001B[1;32m     27\u001B[0m     logger \u001B[38;5;241m=\u001B[39m Logger()\n\u001B[1;32m     29\u001B[0m     logger\u001B[38;5;241m.\u001B[39mdebug(\u001B[38;5;124mf\u001B[39m\u001B[38;5;124m\"\u001B[39m\u001B[38;5;124mCLI args: \u001B[39m\u001B[38;5;132;01m{\u001B[39;00margs\u001B[38;5;132;01m}\u001B[39;00m\u001B[38;5;124m\"\u001B[39m)\n",
      "\u001B[0;31mAttributeError\u001B[0m: 'NameSpace' object has no attribute 'loglevel'"
     ]
    }
   ],
   "source": [
    "main(args)"
   ]
  }
 ],
 "metadata": {
  "kernelspec": {
   "display_name": "granger_causality",
   "language": "python",
   "name": "granger_causality"
  },
  "language_info": {
   "codemirror_mode": {
    "name": "ipython",
    "version": 3
   },
   "file_extension": ".py",
   "mimetype": "text/x-python",
   "name": "python",
   "nbconvert_exporter": "python",
   "pygments_lexer": "ipython3",
   "version": "3.9.10"
  }
 },
 "nbformat": 4,
 "nbformat_minor": 4
}