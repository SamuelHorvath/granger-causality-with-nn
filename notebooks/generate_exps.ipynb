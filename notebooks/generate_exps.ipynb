{
 "cells": [
  {
   "cell_type": "markdown",
   "metadata": {},
   "source": [
    "## VAR Models"
   ]
  },
  {
   "cell_type": "code",
   "execution_count": 1,
   "metadata": {},
   "outputs": [],
   "source": [
    "run_id = 'simulations_sigmoid'\n",
    "\n",
    "rounds = 200\n",
    "\n",
    "lr_s = [1. ,0.1, 0.01, 0.001, 0.0001]\n",
    "gc_penalty_s = [1e-7, 1e-6, 1e-5, 1e-4, 1e-3, 1e-2]\n",
    "model_s = ['var', 'lekvar', \"cmlp\", \"cmlpwf\", \"ctlstm\", \"ctlstmwf\", \n",
    "           'cmlp_s', 'cmlpwf_s', 'ctlstm_s', 'ctlstmwf_s']\n",
    "dataset_s = ['var_p_10_T_100_lag_3_d_0_k_none', 'var_p_10_T_200_lag_3_d_0_k_none', 'var_p_10_T_1000_lag_3_d_0_k_none']\n",
    "seed_s = [123, 124, 125]\n"
   ]
  },
  {
   "cell_type": "code",
   "execution_count": 2,
   "metadata": {
    "tags": []
   },
   "outputs": [],
   "source": [
    "import os\n",
    "from itertools import product\n",
    "\n",
    "os.makedirs(\"../run_scripts/\", exist_ok=True)\n",
    "\n",
    "f = open(\"../run_scripts/var_datasets.sh\", \"w\")\n",
    "\n",
    "for lr, gc_penalty, model, dataset, seed in product(lr_s, gc_penalty_s, model_s, dataset_s, seed_s):\n",
    "    run_script = f\"python run.py --run-id {run_id} --rounds {rounds} --dataset {dataset}\" \\\n",
    "                 f\" --model {model}  --deterministic --manual-seed {seed}\" \\\n",
    "                 f\" --lr {lr} --gc-penalty {gc_penalty} --gpu 0\"\n",
    "\n",
    "    f.write(run_script + \"\\n\")\n",
    "\n",
    "f.close()"
   ]
  },
  {
   "cell_type": "markdown",
   "metadata": {},
   "source": [
    "### LSTM lag selection"
   ]
  },
  {
   "cell_type": "code",
   "execution_count": 4,
   "metadata": {},
   "outputs": [],
   "source": [
    "run_id = 'simulations'\n",
    "\n",
    "rounds = 200\n",
    "\n",
    "lr_s = [1. ,0.1, 0.01, 0.001]\n",
    "gc_penalty_s = [1e-7, 1e-6, 1e-5, 1e-4, 1e-3, 1e-2]\n",
    "model_s = [\"ctlstmwf\", \"ctlstmwf_s\"]\n",
    "dataset_s = ['var_p_10_T_100_lag_3_d_0_k_none', 'var_p_10_T_200_lag_3_d_0_k_none', 'var_p_10_T_1000_lag_3_d_0_k_none',\n",
    "             'var_p_10_T_100_lag_3_d_2_k_none', 'var_p_10_T_200_lag_3_d_2_k_none', 'var_p_10_T_1000_lag_3_d_2_k_none']\n",
    "seed_s = [123, 124, 125]"
   ]
  },
  {
   "cell_type": "code",
   "execution_count": 5,
   "metadata": {},
   "outputs": [],
   "source": [
    "import os\n",
    "from itertools import product\n",
    "\n",
    "os.makedirs(\"../run_scripts/\", exist_ok=True)\n",
    "\n",
    "f = open(\"../run_scripts/var_lstm_datasets.sh\", \"w\")\n",
    "\n",
    "for lr, gc_penalty, model, dataset, seed in product(lr_s, gc_penalty_s, model_s, dataset_s, seed_s):\n",
    "    run_script = f\"python run.py --run-id {run_id} --rounds {rounds} --dataset {dataset}\" \\\n",
    "                 f\" --model {model}  --deterministic --manual-seed {seed}\" \\\n",
    "                 f\" --lr {lr} --gc-penalty {gc_penalty} --gpu 0\"\n",
    "\n",
    "    f.write(run_script + \"\\n\")\n",
    "\n",
    "f.close()"
   ]
  },
  {
   "cell_type": "markdown",
   "metadata": {},
   "source": [
    "## Lorenz 96"
   ]
  },
  {
   "cell_type": "code",
   "execution_count": 3,
   "metadata": {},
   "outputs": [],
   "source": [
    "run_id = 'simulations_sigmoid'\n",
    "\n",
    "rounds = 200\n",
    "\n",
    "lr_s = [1. ,0.1, 0.01, 0.001]\n",
    "gc_penalty_s = [1e-7, 1e-6, 1e-5, 1e-4, 1e-3, 1e-2]\n",
    "model_s = ['var', 'lekvar', \"cmlp\", \"cmlpwf\", \"ctlstm\", \"ctlstmwf\",  \n",
    "           'cmlp_s', 'cmlpwf_s', 'lekvar_s', 'ctlstm_s', 'ctlstmwf_s']\n",
    "dataset_s = ['lorenz_p_20_F_20_T_250', 'lorenz_p_20_F_20_T_750', 'lorenz_p_20_F_20_T_1500']\n",
    "seed_s = [123, 124, 125]"
   ]
  },
  {
   "cell_type": "code",
   "execution_count": 4,
   "metadata": {},
   "outputs": [],
   "source": [
    "import os\n",
    "from itertools import product\n",
    "\n",
    "os.makedirs(\"../run_scripts/\", exist_ok=True)\n",
    "\n",
    "f = open(\"../run_scripts/lorenz_datasets.sh\", \"w\")\n",
    "\n",
    "for lr, gc_penalty, model, dataset, seed in product(lr_s, gc_penalty_s, model_s, dataset_s, seed_s):\n",
    "    run_script = f\"python run.py --run-id {run_id} --rounds {rounds} --dataset {dataset}\" \\\n",
    "                 f\" --model {model}  --deterministic --manual-seed {seed}\" \\\n",
    "                 f\" --lr {lr} --gc-penalty {gc_penalty} --gpu 0\"\n",
    "\n",
    "    f.write(run_script + \"\\n\")\n",
    "\n",
    "f.close()"
   ]
  },
  {
   "cell_type": "markdown",
   "metadata": {},
   "source": [
    "## Dream Data"
   ]
  },
  {
   "cell_type": "code",
   "execution_count": 11,
   "metadata": {},
   "outputs": [],
   "source": [
    "run_id = 'simulations_sigmoid'\n",
    "\n",
    "rounds = 200\n",
    "\n",
    "lr_s = [1. ,0.1, 0.01]\n",
    "gc_penalty_s = [1e-7, 1e-6, 1e-5, 1e-4, 1e-3, 1e-2]\n",
    "model_s = ['var', 'lekvar', \"cmlp\", \"cmlpwf\", \"ctlstm\", \"ctlstmwf\", \n",
    "           'cmlp_s', 'cmlpwf_s', 'lekvar_s', 'ctlstm_s', 'ctlstmwf_s']\n",
    "dataset_s = ['InSilicoSize100-Ecoli1', 'InSilicoSize100-Ecoli2',\n",
    "             'InSilicoSize100-Yeast1', 'InSilicoSize100-Yeast2',\n",
    "             'InSilicoSize100-Yeast3']\n",
    "seed_s = [123]"
   ]
  },
  {
   "cell_type": "code",
   "execution_count": 12,
   "metadata": {},
   "outputs": [],
   "source": [
    "import os\n",
    "from itertools import product\n",
    "\n",
    "os.makedirs(\"../run_scripts/\", exist_ok=True)\n",
    "\n",
    "f = open(\"../run_scripts/dream_data_datasets.sh\", \"w\")\n",
    "\n",
    "for lr, gc_penalty, model, dataset, seed in product(lr_s, gc_penalty_s, model_s, dataset_s, seed_s):\n",
    "    run_script = f\"python run.py --run-id {run_id} --rounds {rounds} --dataset {dataset}\" \\\n",
    "                 f\" --model {model}  --deterministic --manual-seed {seed}\" \\\n",
    "                 f\" --lr {lr} --gc-penalty {gc_penalty} --gpu 1 -s 5\"\n",
    "\n",
    "    f.write(run_script + \"\\n\")\n",
    "\n",
    "f.close()"
   ]
  }
 ],
 "metadata": {
  "kernelspec": {
   "display_name": "granger_causality",
   "language": "python",
   "name": "granger_causality"
  },
  "language_info": {
   "codemirror_mode": {
    "name": "ipython",
    "version": 3
   },
   "file_extension": ".py",
   "mimetype": "text/x-python",
   "name": "python",
   "nbconvert_exporter": "python",
   "pygments_lexer": "ipython3",
   "version": "3.9.10"
  }
 },
 "nbformat": 4,
 "nbformat_minor": 4
}
