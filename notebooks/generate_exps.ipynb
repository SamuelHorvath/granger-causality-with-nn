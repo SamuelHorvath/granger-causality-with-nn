{
 "cells": [
  {
   "cell_type": "code",
   "execution_count": 1,
   "metadata": {},
   "outputs": [],
   "source": [
    "run_id = 'simulations'\n",
    "\n",
    "rounds = 200\n",
    "\n",
    "lr_s = [0.01, 0.001, 0.0001]\n",
    "gc_penalty_s = [0., 1e-6, 1e-5, 1e-4]\n",
    "model_s = ['var', 'sqvar', 'lekvar', \"cmlp\", \"cmlpwf\",\n",
    "           \"ctlstm\", \"ctlstmwf\", ]\n",
    "dataset_s = ['var_p_10_T_100_lag_3_d_0_k_none', 'var_p_10_T_1000_lag_3_d_0_k_none',\n",
    "             'var_p_10_T_100_lag_3_d_0_k_sq', 'var_p_10_T_1000_lag_3_d_0_k_sq']\n",
    "seed_s = [123, 124, 125]\n"
   ]
  },
  {
   "cell_type": "code",
   "execution_count": 2,
   "metadata": {
    "tags": []
   },
   "outputs": [],
   "source": [
    "import os\n",
    "from itertools import product\n",
    "\n",
    "os.makedirs(\"../run_scripts/\", exist_ok=True)\n",
    "\n",
    "f = open(\"../run_scripts/var_datasets.sh\", \"w\")\n",
    "\n",
    "for lr, gc_penalty, model, dataset, seed in product(lr_s, gc_penalty_s, model_s, dataset_s, seed_s):\n",
    "    run_script = f\"python run.py --run-id {run_id} --rounds {rounds} --dataset {dataset}\" \\\n",
    "                 f\" --model {model}  --deterministic --manual-seed {seed}\" \\\n",
    "                 f\" --lr {lr} --gc-penalty {gc_penalty}\"\n",
    "\n",
    "    f.write(run_script + \"\\n\")\n",
    "\n",
    "f.close()"
   ]
  }
 ],
 "metadata": {
  "kernelspec": {
   "display_name": "granger_causality",
   "language": "python",
   "name": "granger_causality"
  },
  "language_info": {
   "codemirror_mode": {
    "name": "ipython",
    "version": 3
   },
   "file_extension": ".py",
   "mimetype": "text/x-python",
   "name": "python",
   "nbconvert_exporter": "python",
   "pygments_lexer": "ipython3",
   "version": "3.9.10"
  }
 },
 "nbformat": 4,
 "nbformat_minor": 4
}